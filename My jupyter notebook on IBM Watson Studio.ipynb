{
 "cells": [
  {
   "cell_type": "markdown",
   "metadata": {},
   "source": [
    "<center>\n",
    "    <img src=\"https://cf-courses-data.s3.us.cloud-object-storage.appdomain.cloud/IBMDeveloperSkillsNetwork-DS0105EN-SkillsNetwork/labs/Module2/images/SN_web_lightmode.png\" width=\"300\" alt=\"cognitiveclass.ai logo\">\n",
    "</center>\n"
   ]
  },
  {
   "cell_type": "markdown",
   "metadata": {},
   "source": [
    "#### Add your code below following the instructions given in the course\n"
   ]
  },
  {
   "cell_type": "markdown",
   "metadata": {},
   "source": [
    " #My Jupyter notebook on IBM Watson Studio"
   ]
  },
  {
   "cell_type": "markdown",
   "metadata": {},
   "source": [
    "**Nikhil Gavali**"
   ]
  },
  {
   "cell_type": "markdown",
   "metadata": {},
   "source": [
    "* *I am interested in data science because I want to eventually get into Deep learning, machine learning and use it in my company for Industry 4.0."
   ]
  },
  {
   "cell_type": "markdown",
   "metadata": {},
   "source": [
    "## my code is supposed to be"
   ]
  },
  {
   "cell_type": "code",
   "execution_count": 4,
   "metadata": {},
   "outputs": [
    {
     "data": {
      "text/plain": [
       "3"
      ]
     },
     "execution_count": 4,
     "metadata": {},
     "output_type": "execute_result"
    }
   ],
   "source": [
    "1+2"
   ]
  },
  {
   "cell_type": "markdown",
   "metadata": {},
   "source": [
    "* Messi"
   ]
  },
  {
   "cell_type": "markdown",
   "metadata": {},
   "source": [
    "* Iniesta"
   ]
  },
  {
   "cell_type": "markdown",
   "metadata": {},
   "source": [
    "* Xavi"
   ]
  },
  {
   "cell_type": "markdown",
   "metadata": {},
   "source": [
    "\n",
    "\n",
    "1. Messi"
   ]
  },
  {
   "cell_type": "markdown",
   "metadata": {},
   "source": [
    "2. Iniesta"
   ]
  },
  {
   "cell_type": "markdown",
   "metadata": {},
   "source": [
    "3. Xavi"
   ]
  },
  {
   "cell_type": "markdown",
   "metadata": {},
   "source": [
    "![ pic not available](data:image/jpeg;base64,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)"
   ]
  },
  {
   "cell_type": "code",
   "execution_count": null,
   "metadata": {},
   "outputs": [],
   "source": []
  }
 ],
 "metadata": {
  "kernelspec": {
   "display_name": "Python",
   "language": "python",
   "name": "conda-env-python-py"
  },
  "language_info": {
   "codemirror_mode": {
    "name": "ipython",
    "version": 3
   },
   "file_extension": ".py",
   "mimetype": "text/x-python",
   "name": "python",
   "nbconvert_exporter": "python",
   "pygments_lexer": "ipython3",
   "version": "3.7.12"
  }
 },
 "nbformat": 4,
 "nbformat_minor": 4
}
